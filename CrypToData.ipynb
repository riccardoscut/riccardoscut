{
  "nbformat": 4,
  "nbformat_minor": 0,
  "metadata": {
    "colab": {
      "private_outputs": true,
      "provenance": [],
      "authorship_tag": "ABX9TyN1xiDdlsRdojMYjpSqvvRa",
      "include_colab_link": true
    },
    "kernelspec": {
      "name": "python3",
      "display_name": "Python 3"
    },
    "language_info": {
      "name": "python"
    }
  },
  "cells": [
    {
      "cell_type": "markdown",
      "metadata": {
        "id": "view-in-github",
        "colab_type": "text"
      },
      "source": [
        "<a href=\"https://colab.research.google.com/github/riccardoscut/riccardoscut/blob/main/CrypToData.ipynb\" target=\"_parent\"><img src=\"https://colab.research.google.com/assets/colab-badge.svg\" alt=\"Open In Colab\"/></a>"
      ]
    },
    {
      "cell_type": "markdown",
      "source": [
        "Creating a simple project to retrieve, clean, manipulate, and analyze cryptocurrency data using Python and pandas can be a fun way to get hands-on experience with data manipulation and analysis. Here's a step-by-step guide on how to approach this project.\n"
      ],
      "metadata": {
        "id": "LQIcT-n7h4IL"
      }
    },
    {
      "cell_type": "markdown",
      "source": [
        "1. Set Up Your Environment\n",
        "Ensure you have the necessary packages installed. You'll need the following:"
      ],
      "metadata": {
        "id": "sJJFcNBQiAPh"
      }
    },
    {
      "cell_type": "markdown",
      "source": [
        "2. Data Retrieval\n",
        "You can retrieve cryptocurrency data using public APIs like the CoinGecko API or the CoinMarketCap API. CoinGecko doesn’t require authentication, so it’s a simpler starting point.\n"
      ],
      "metadata": {
        "id": "Jmy5mmQuiTjq"
      }
    },
    {
      "cell_type": "code",
      "execution_count": null,
      "metadata": {
        "id": "qHbrHzeFhs_T"
      },
      "outputs": [],
      "source": [
        "\n",
        "pip install pandas requests matplotlib"
      ]
    },
    {
      "cell_type": "markdown",
      "source": [
        "Importiamo i moduli"
      ],
      "metadata": {
        "id": "kRdAuoJ_idu9"
      }
    },
    {
      "cell_type": "code",
      "source": [
        "import requests\n",
        "import pandas as pd"
      ],
      "metadata": {
        "id": "Zdu6DfAGiXgZ"
      },
      "execution_count": null,
      "outputs": []
    },
    {
      "cell_type": "markdown",
      "source": [
        "Definiamo la funzione get_crypto_data da questo sito: \"https://api.coingecko.com/api/v3/coins/{crypto_id}/market_chart\" sui 30 giorni in dollari per il prezzo."
      ],
      "metadata": {
        "id": "yoezUSnBimtf"
      }
    },
    {
      "cell_type": "code",
      "source": [
        "def get_crypto_data(crypto_id, days='365'):\n",
        "  url = f\"https://api.coingecko.com/api/v3/coins/{crypto_id}/market_chart\"\n",
        "  params = {\n",
        "      'vs_currency': 'usd',\n",
        "      'days': days,\n",
        "      'interval': 'daily'\n",
        "      }\n",
        "\n",
        "  response = requests.get(url, params=params)\n",
        "\n",
        "  if response.status_code == 200:\n",
        "    data = response.json()\n",
        "    # Convert price data into a DataFrame\n",
        "    prices = pd.DataFrame(data['prices'], columns=['timestamp', 'price'])\n",
        "    # Convert timestamp to a readable date format\n",
        "    prices['timestamp'] = pd.to_datetime(prices['timestamp'], unit='ms')\n",
        "    return prices\n",
        "  else:\n",
        "    print(f\"Failed to retrieve data: {response.status_code}\")\n",
        "    return None\n",
        "\n",
        "# Example: Get 1 year of Bitcoin data\n",
        "btc_data = get_crypto_data('cardano')"
      ],
      "metadata": {
        "id": "y19gUsnijCwz"
      },
      "execution_count": null,
      "outputs": []
    },
    {
      "cell_type": "markdown",
      "source": [
        "3. Data Cleaning\n",
        "Once you have the data, you might want to clean it up. Some common cleaning tasks include:\n",
        "Removing duplicates. Handling missing values. Formatting timestamps.\n"
      ],
      "metadata": {
        "id": "oW-_otz_kSIw"
      }
    },
    {
      "cell_type": "code",
      "source": [
        "print(btc_data)\n"
      ],
      "metadata": {
        "id": "eYEGfbuylh9u"
      },
      "execution_count": null,
      "outputs": []
    },
    {
      "cell_type": "code",
      "source": [
        "# Formatting timestamps\n",
        "btc_data['timestamp'] = pd.to_datetime(btc_data['timestamp'])\n",
        "\n",
        "# Removing duplicates\n",
        "btc_data.drop_duplicates(subset=['timestamp'])\n",
        "\n",
        "# Handling missing values\n",
        "#btc_data.fillna(method='ffill', inplace=True)\n",
        "\n",
        "#Resetting the index after cleaning\n",
        "btc_data.reset_index(drop=True, inplace=True)\n",
        "\n",
        "print(btc_data)\n"
      ],
      "metadata": {
        "id": "SZfAn77kkTZL"
      },
      "execution_count": null,
      "outputs": []
    },
    {
      "cell_type": "markdown",
      "source": [
        "Calculate daily return\n"
      ],
      "metadata": {
        "id": "G6SxEtoJlxoE"
      }
    },
    {
      "cell_type": "code",
      "source": [
        "btc_data['daily_return'] = btc_data['price'].pct_change()\n",
        "print(btc_data['daily_return'])"
      ],
      "metadata": {
        "id": "WAMKHDJnlzgX"
      },
      "execution_count": null,
      "outputs": []
    },
    {
      "cell_type": "markdown",
      "source": [
        "Calculate 7 days moving average"
      ],
      "metadata": {
        "id": "UQbD1Jwql6QH"
      }
    },
    {
      "cell_type": "code",
      "source": [
        "btc_data['7_day_MA'] = btc_data['price'].rolling(window=7).mean()\n",
        "print(btc_data['7_day_MA'])"
      ],
      "metadata": {
        "id": "fVmf7hVHl9zb"
      },
      "execution_count": null,
      "outputs": []
    },
    {
      "cell_type": "markdown",
      "source": [
        "Find higest price"
      ],
      "metadata": {
        "id": "Ing3g8DomHoR"
      }
    },
    {
      "cell_type": "code",
      "source": [
        "highest_price = btc_data['price'].max()\n",
        "print(highest_price)"
      ],
      "metadata": {
        "id": "Q1v0w_y6mMhK"
      },
      "execution_count": null,
      "outputs": []
    },
    {
      "cell_type": "markdown",
      "source": [
        "6. Basic Analysis and Visualization\n",
        "You can perform some basic analysis and visualize the data to understand trends. For example, plot the price and moving average over time."
      ],
      "metadata": {
        "id": "_7PonjQQnEm4"
      }
    },
    {
      "cell_type": "code",
      "source": [
        "import matplotlib.pyplot as plt"
      ],
      "metadata": {
        "id": "uro1nnbYnTyJ"
      },
      "execution_count": null,
      "outputs": []
    },
    {
      "cell_type": "code",
      "source": [
        "plt.figure(figsize=(12, 6))\n",
        "plt.plot(btc_data['timestamp'], btc_data['price'], label='Price', color='blue')\n",
        "plt.plot(btc_data['timestamp'], btc_data['7_day_MA'], label='7-Day MA', color='red')\n",
        "plt.title('Cardano Price Over Time')\n",
        "plt.xlabel('Date')\n",
        "plt.ylabel('Price (USD)')\n",
        "plt.legend()\n",
        "plt.grid(True)\n",
        "plt.show()"
      ],
      "metadata": {
        "id": "RWM4V0cgnXZO"
      },
      "execution_count": null,
      "outputs": []
    },
    {
      "cell_type": "markdown",
      "source": [
        "Saving your data"
      ],
      "metadata": {
        "id": "coAxGwf7oNu9"
      }
    },
    {
      "cell_type": "code",
      "source": [
        "btc_data.to_csv('bitcoin_cleaned_data.csv', index=False)"
      ],
      "metadata": {
        "id": "BnnV2aXeoPZz"
      },
      "execution_count": null,
      "outputs": []
    }
  ]
}