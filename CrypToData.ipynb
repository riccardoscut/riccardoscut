{
  "nbformat": 4,
  "nbformat_minor": 0,
  "metadata": {
    "colab": {
      "private_outputs": true,
      "provenance": [],
      "authorship_tag": "ABX9TyNUCdr1Qkdu+PnLBmxDG5uz",
      "include_colab_link": true
    },
    "kernelspec": {
      "name": "python3",
      "display_name": "Python 3"
    },
    "language_info": {
      "name": "python"
    }
  },
  "cells": [
    {
      "cell_type": "markdown",
      "metadata": {
        "id": "view-in-github",
        "colab_type": "text"
      },
      "source": [
        "<a href=\"https://colab.research.google.com/github/riccardoscut/riccardoscut/blob/main/CrypToData.ipynb\" target=\"_parent\"><img src=\"https://colab.research.google.com/assets/colab-badge.svg\" alt=\"Open In Colab\"/></a>"
      ]
    },
    {
      "cell_type": "markdown",
      "source": [
        "Creating a simple project to retrieve, clean, manipulate, and analyze cryptocurrency data using Python and pandas can be a fun way to get hands-on experience with data manipulation and analysis. Here's a step-by-step guide on how to approach this project.\n"
      ],
      "metadata": {
        "id": "LQIcT-n7h4IL"
      }
    },
    {
      "cell_type": "markdown",
      "source": [
        "1. Set Up Your Environment\n",
        "Ensure you have the necessary packages installed. You'll need the following:"
      ],
      "metadata": {
        "id": "sJJFcNBQiAPh"
      }
    },
    {
      "cell_type": "markdown",
      "source": [
        "2. Data Retrieval\n",
        "You can retrieve cryptocurrency data using public APIs like the CoinGecko API or the CoinMarketCap API. CoinGecko doesn’t require authentication, so it’s a simpler starting point.\n"
      ],
      "metadata": {
        "id": "Jmy5mmQuiTjq"
      }
    },
    {
      "cell_type": "code",
      "execution_count": null,
      "metadata": {
        "id": "qHbrHzeFhs_T"
      },
      "outputs": [],
      "source": [
        "\n",
        "pip install pandas requests matplotlib"
      ]
    },
    {
      "cell_type": "markdown",
      "source": [
        "Importiamo i moduli"
      ],
      "metadata": {
        "id": "kRdAuoJ_idu9"
      }
    },
    {
      "cell_type": "code",
      "source": [
        "import requests\n",
        "import pandas as pd"
      ],
      "metadata": {
        "id": "Zdu6DfAGiXgZ"
      },
      "execution_count": null,
      "outputs": []
    },
    {
      "cell_type": "markdown",
      "source": [
        "Definiamo la funzione get_crypto_data da questo sito: \"https://api.coingecko.com/api/v3/coins/{crypto_id}/market_chart\" sui 30 giorni in dollari per il prezzo."
      ],
      "metadata": {
        "id": "yoezUSnBimtf"
      }
    },
    {
      "cell_type": "code",
      "source": [
        "def get_crypto_data(crypto_id, days='365'):\n",
        "  url = f\"https://api.coingecko.com/api/v3/coins/{crypto_id}/market_chart\"\n",
        "  params = {\n",
        "      'vs_currency': 'usd',\n",
        "      'days': days,\n",
        "      'interval': 'daily'\n",
        "      }\n",
        "\n",
        "  response = requests.get(url, params=params)\n",
        "\n",
        "  if response.status_code == 200:\n",
        "    data = response.json()\n",
        "    # Convert price data into a DataFrame\n",
        "    prices = pd.DataFrame(data['prices'], columns=['timestamp', 'price'])\n",
        "    # Convert timestamp to a readable date format\n",
        "    prices['timestamp'] = pd.to_datetime(prices['timestamp'], unit='ms')\n",
        "    return prices\n",
        "  else:\n",
        "    print(f\"Failed to retrieve data: {response.status_code}\")\n",
        "    return None\n",
        "\n",
        "# Example: Get 1 year of Cardano data\n",
        "ada_data = get_crypto_data('cardano')"
      ],
      "metadata": {
        "id": "y19gUsnijCwz"
      },
      "execution_count": null,
      "outputs": []
    },
    {
      "cell_type": "markdown",
      "source": [
        "3. Data Cleaning\n",
        "Once you have the data, you might want to clean it up. Some common cleaning tasks include:\n",
        "Removing duplicates. Handling missing values. Formatting timestamps.\n"
      ],
      "metadata": {
        "id": "oW-_otz_kSIw"
      }
    },
    {
      "cell_type": "code",
      "source": [
        "print(ada_data)\n"
      ],
      "metadata": {
        "id": "eYEGfbuylh9u"
      },
      "execution_count": null,
      "outputs": []
    },
    {
      "cell_type": "code",
      "source": [
        "# Formatting timestamps\n",
        "ada_data['timestamp'] = pd.to_datetime(ada_data['timestamp'])\n",
        "\n",
        "# Removing duplicates\n",
        "ada_data.drop_duplicates(subset=['timestamp'])\n",
        "\n",
        "# Handling missing values\n",
        "#ada_data.fillna(method='ffill', inplace=True)\n",
        "\n",
        "#Resetting the index after cleaning\n",
        "ada_data.reset_index(drop=True, inplace=True)\n",
        "\n",
        "print(ada_data)\n"
      ],
      "metadata": {
        "id": "SZfAn77kkTZL"
      },
      "execution_count": null,
      "outputs": []
    },
    {
      "cell_type": "markdown",
      "source": [
        "Calculate daily return\n"
      ],
      "metadata": {
        "id": "G6SxEtoJlxoE"
      }
    },
    {
      "cell_type": "code",
      "source": [
        "ada_data['daily_return'] = ada_data['price'].pct_change()\n",
        "print(ada_data['daily_return'])"
      ],
      "metadata": {
        "id": "WAMKHDJnlzgX"
      },
      "execution_count": null,
      "outputs": []
    },
    {
      "cell_type": "markdown",
      "source": [
        "Calculate 7 days moving average"
      ],
      "metadata": {
        "id": "UQbD1Jwql6QH"
      }
    },
    {
      "cell_type": "code",
      "source": [
        "ada_data['7_day_MA'] = ada_data['price'].rolling(window=7).mean()\n",
        "print(ada_data['7_day_MA'])"
      ],
      "metadata": {
        "id": "fVmf7hVHl9zb"
      },
      "execution_count": null,
      "outputs": []
    },
    {
      "cell_type": "markdown",
      "source": [
        "Find higest price"
      ],
      "metadata": {
        "id": "Ing3g8DomHoR"
      }
    },
    {
      "cell_type": "code",
      "source": [
        "highest_price = ada_data['price'].max()\n",
        "print(highest_price)"
      ],
      "metadata": {
        "id": "Q1v0w_y6mMhK"
      },
      "execution_count": null,
      "outputs": []
    },
    {
      "cell_type": "markdown",
      "source": [
        "6. Basic Analysis and Visualization\n",
        "You can perform some basic analysis and visualize the data to understand trends. For example, plot the price and moving average over time."
      ],
      "metadata": {
        "id": "_7PonjQQnEm4"
      }
    },
    {
      "cell_type": "code",
      "source": [
        "import matplotlib.pyplot as plt"
      ],
      "metadata": {
        "id": "uro1nnbYnTyJ"
      },
      "execution_count": null,
      "outputs": []
    },
    {
      "cell_type": "code",
      "source": [
        "plt.figure(figsize=(12, 6))\n",
        "plt.plot(ada_data['timestamp'], ada_data['price'], label='Price', color='blue')\n",
        "plt.plot(ada_data['timestamp'], ada_data['7_day_MA'], label='7-Day MA', color='red')\n",
        "plt.title('Cardano Price Over Time')\n",
        "plt.xlabel('Date')\n",
        "plt.ylabel('Price (USD)')\n",
        "plt.legend()\n",
        "plt.grid(True)\n",
        "plt.show()"
      ],
      "metadata": {
        "id": "RWM4V0cgnXZO"
      },
      "execution_count": null,
      "outputs": []
    },
    {
      "cell_type": "markdown",
      "source": [
        "Saving your data"
      ],
      "metadata": {
        "id": "coAxGwf7oNu9"
      }
    },
    {
      "cell_type": "code",
      "source": [
        "ada_data.to_csv('cardano_cleaned_data.csv', index=False)"
      ],
      "metadata": {
        "id": "BnnV2aXeoPZz"
      },
      "execution_count": null,
      "outputs": []
    },
    {
      "cell_type": "markdown",
      "source": [
        "Carica i dati:\n",
        "Importa il dataset di prezzo di Cardano che hai ottenuto tramite l’API di CoinGecko.\n",
        "Scarica e carica anche il dataset di notizie dal link che hai fornito. Questo dataset include articoli e notizie legate alle criptovalute, con timestamp che indicano quando è stata pubblicata ogni notizia."
      ],
      "metadata": {
        "id": "dDeTEUk6_dOa"
      }
    },
    {
      "cell_type": "code",
      "source": [
        "from vaderSentiment.vaderSentiment import SentimentIntensityAnalyzer"
      ],
      "metadata": {
        "id": "orDWQ7FE_eTq"
      },
      "execution_count": null,
      "outputs": []
    },
    {
      "cell_type": "markdown",
      "source": [
        "# Carica il dataset di prezzi di Cardano"
      ],
      "metadata": {
        "id": "00mX2fa9_sQJ"
      }
    },
    {
      "cell_type": "code",
      "source": [
        "cardano_data = pd.read_csv('cardano_cleaned_data.csv')\n",
        "cardano_data['timestamp'] = pd.to_datetime(cardano_data['timestamp'])\n",
        "print(cardano_data)"
      ],
      "metadata": {
        "id": "B7o6-9S2_m2k"
      },
      "execution_count": null,
      "outputs": []
    },
    {
      "cell_type": "markdown",
      "source": [
        "mi sono copiato il repo cryptoNewsDataset in locale e adesso devo estrarre il .rar per lavorare sui .csv"
      ],
      "metadata": {
        "id": "-63xEwzLCHG6"
      }
    },
    {
      "cell_type": "code",
      "source": [
        "from google.colab import files\n",
        "files.download('cardano_cleaned_data.csv')\n"
      ],
      "metadata": {
        "id": "l86vKPPaNNBT"
      },
      "execution_count": null,
      "outputs": []
    },
    {
      "cell_type": "code",
      "source": [
        "import pandas as pd\n",
        "\n",
        "# Carica i dati di prezzo\n",
        "price_df = pd.read_csv('path_to_your_cardano_price_data.csv')  # Sostituisci con il tuo file CSV\n",
        "price_df['date'] = pd.to_datetime(price_df['date'])  # Assicurati che la colonna delle date sia nel formato corretto\n",
        "\n",
        "# Carica il dataset delle notizie\n",
        "news_df = pd.read_csv('path_to_your_cryptoNewsDataset/cryptopanic_news.csv')  # Sostituisci con il tuo file CSV\n",
        "news_df['newsDatetime'] = pd.to_datetime(news_df['newsDatetime'])  # Assicurati che la colonna delle date sia nel formato corretto\n",
        "\n",
        "# Identifica cambiamenti significativi di prezzo (es. > 5%)\n",
        "price_df['price_change'] = price_df['close'].pct_change()  # Calcola la variazione percentuale\n",
        "significant_changes = price_df[price_df['price_change'].abs() > 0.05]  # Cambiamenti > 5%\n",
        "\n",
        "# Unisci i dati delle notizie con i cambiamenti significativi di prezzo\n",
        "merged_df = pd.merge(significant_changes, news_df, left_on='date', right_on='newsDatetime', how='left')\n",
        "\n",
        "# Analizza le correlazioni\n",
        "print(merged_df[['date', 'close', 'price_change', 'title']])\n"
      ],
      "metadata": {
        "id": "tb6c6J6sJNpt"
      },
      "execution_count": null,
      "outputs": []
    },
    {
      "cell_type": "code",
      "source": [
        "import pandas as pd\n",
        "\n",
        "# Percorso ai file CSV su locale\n",
        "base_path = '/'\n",
        "\n",
        "# Carica i file CSV in DataFrame\n",
        "cryptopanic_news = pd.read_csv(base_path + 'cryptopanic_news.csv')\n",
        "currency = pd.read_csv(base_path + 'currency.csv')\n",
        "news_currency = pd.read_csv(base_path + 'news__currency.csv')\n",
        "news_currencies_source_joinedResult = pd.read_csv(base_path + 'news_currencies_source_joinedResult.csv')\n",
        "source = pd.read_csv(base_path + 'source.csv')\n",
        "\n",
        "# Visualizza le prime righe di ciascun DataFrame per verificare\n",
        "print(\"Cryptopanic News:\")\n",
        "print(cryptopanic_news.head())\n",
        "print(\"\\nCurrency:\")\n",
        "print(currency.head())\n",
        "print(\"\\nNews Currency:\")\n",
        "print(news_currency.head())\n",
        "print(\"\\nNews Currencies Source Joined Result:\")\n",
        "print(news_currencies_source_joinedResult.head())\n",
        "print(\"\\nSource:\")\n",
        "print(source.head())\n"
      ],
      "metadata": {
        "id": "sQZVJF9CH6Jl"
      },
      "execution_count": null,
      "outputs": []
    }
  ]
}